{
 "cells": [
  {
   "cell_type": "code",
   "execution_count": 1,
   "metadata": {},
   "outputs": [],
   "source": [
    "import numpy as np \n",
    "import pandas as pd \n",
    "pd.set_option('display.max_columns', None)"
   ]
  },
  {
   "cell_type": "code",
   "execution_count": 2,
   "metadata": {},
   "outputs": [],
   "source": [
    "data_path = '../data/Modelar_UH2020.txt'\n",
    "\n",
    "data = pd.read_csv(data_path, sep = \"|\")"
   ]
  },
  {
   "cell_type": "code",
   "execution_count": 3,
   "metadata": {},
   "outputs": [],
   "source": [
    "y = data.pop('CLASE')"
   ]
  },
  {
   "cell_type": "markdown",
   "metadata": {},
   "source": [
    "Para tratar las variables de los canales de color intentamos realizar un procesamiento mediante un autoencoder convolucional. Para ello, primero tanamos que dar a cada registro una estructura en formato imagen con una dimensión 1X11X4."
   ]
  },
  {
   "cell_type": "markdown",
   "metadata": {},
   "source": [
    "Eliminamos las variables restantes para quedarnos únicamente con los canales de color"
   ]
  },
  {
   "cell_type": "code",
   "execution_count": 4,
   "metadata": {},
   "outputs": [],
   "source": [
    "data.drop(['ID','X','Y','AREA','GEOM_R1','GEOM_R2','GEOM_R3','GEOM_R4','CONTRUCTIONYEAR','MAXBUILDINGFLOOR','CADASTRALQUALITYID'], axis=1, inplace=True)"
   ]
  },
  {
   "cell_type": "code",
   "execution_count": 5,
   "metadata": {},
   "outputs": [
    {
     "data": {
      "text/html": [
       "<div>\n",
       "<style scoped>\n",
       "    .dataframe tbody tr th:only-of-type {\n",
       "        vertical-align: middle;\n",
       "    }\n",
       "\n",
       "    .dataframe tbody tr th {\n",
       "        vertical-align: top;\n",
       "    }\n",
       "\n",
       "    .dataframe thead th {\n",
       "        text-align: right;\n",
       "    }\n",
       "</style>\n",
       "<table border=\"1\" class=\"dataframe\">\n",
       "  <thead>\n",
       "    <tr style=\"text-align: right;\">\n",
       "      <th></th>\n",
       "      <th>Q_R_4_0_0</th>\n",
       "      <th>Q_R_4_0_1</th>\n",
       "      <th>Q_R_4_0_2</th>\n",
       "      <th>Q_R_4_0_3</th>\n",
       "      <th>Q_R_4_0_4</th>\n",
       "      <th>Q_R_4_0_5</th>\n",
       "      <th>Q_R_4_0_6</th>\n",
       "      <th>Q_R_4_0_7</th>\n",
       "      <th>Q_R_4_0_8</th>\n",
       "      <th>Q_R_4_0_9</th>\n",
       "      <th>Q_R_4_1_0</th>\n",
       "      <th>Q_G_3_0_0</th>\n",
       "      <th>Q_G_3_0_1</th>\n",
       "      <th>Q_G_3_0_2</th>\n",
       "      <th>Q_G_3_0_3</th>\n",
       "      <th>Q_G_3_0_4</th>\n",
       "      <th>Q_G_3_0_5</th>\n",
       "      <th>Q_G_3_0_6</th>\n",
       "      <th>Q_G_3_0_7</th>\n",
       "      <th>Q_G_3_0_8</th>\n",
       "      <th>Q_G_3_0_9</th>\n",
       "      <th>Q_G_3_1_0</th>\n",
       "      <th>Q_B_2_0_0</th>\n",
       "      <th>Q_B_2_0_1</th>\n",
       "      <th>Q_B_2_0_2</th>\n",
       "      <th>Q_B_2_0_3</th>\n",
       "      <th>Q_B_2_0_4</th>\n",
       "      <th>Q_B_2_0_5</th>\n",
       "      <th>Q_B_2_0_6</th>\n",
       "      <th>Q_B_2_0_7</th>\n",
       "      <th>Q_B_2_0_8</th>\n",
       "      <th>Q_B_2_0_9</th>\n",
       "      <th>Q_B_2_1_0</th>\n",
       "      <th>Q_NIR_8_0_0</th>\n",
       "      <th>Q_NIR_8_0_1</th>\n",
       "      <th>Q_NIR_8_0_2</th>\n",
       "      <th>Q_NIR_8_0_3</th>\n",
       "      <th>Q_NIR_8_0_4</th>\n",
       "      <th>Q_NIR_8_0_5</th>\n",
       "      <th>Q_NIR_8_0_6</th>\n",
       "      <th>Q_NIR_8_0_7</th>\n",
       "      <th>Q_NIR_8_0_8</th>\n",
       "      <th>Q_NIR_8_0_9</th>\n",
       "      <th>Q_NIR_8_1_0</th>\n",
       "    </tr>\n",
       "  </thead>\n",
       "  <tbody>\n",
       "    <tr>\n",
       "      <th>0</th>\n",
       "      <td>0.000000e+00</td>\n",
       "      <td>443.001300</td>\n",
       "      <td>616.001697</td>\n",
       "      <td>746.998401</td>\n",
       "      <td>872.996472</td>\n",
       "      <td>1009.000946</td>\n",
       "      <td>1159.002319</td>\n",
       "      <td>1342.002466</td>\n",
       "      <td>1572.003418</td>\n",
       "      <td>1943.686816</td>\n",
       "      <td>6512.787270</td>\n",
       "      <td>1.283357e-10</td>\n",
       "      <td>428.996347</td>\n",
       "      <td>574.000940</td>\n",
       "      <td>676.002960</td>\n",
       "      <td>778.003931</td>\n",
       "      <td>880.999176</td>\n",
       "      <td>997.000220</td>\n",
       "      <td>1130.001782</td>\n",
       "      <td>1311.997949</td>\n",
       "      <td>1626.996155</td>\n",
       "      <td>8627.098641</td>\n",
       "      <td>155.003632</td>\n",
       "      <td>402.000092</td>\n",
       "      <td>458.999939</td>\n",
       "      <td>510.000061</td>\n",
       "      <td>567.999939</td>\n",
       "      <td>632.000610</td>\n",
       "      <td>681.000916</td>\n",
       "      <td>726.109186</td>\n",
       "      <td>791.000269</td>\n",
       "      <td>902.999719</td>\n",
       "      <td>1980.172280</td>\n",
       "      <td>0.000013</td>\n",
       "      <td>892.016479</td>\n",
       "      <td>1244.014185</td>\n",
       "      <td>1497.998303</td>\n",
       "      <td>1731.204688</td>\n",
       "      <td>1944.003906</td>\n",
       "      <td>2160.996533</td>\n",
       "      <td>2410.995264</td>\n",
       "      <td>2719.999756</td>\n",
       "      <td>3180.000342</td>\n",
       "      <td>10951.926645</td>\n",
       "    </tr>\n",
       "    <tr>\n",
       "      <th>1</th>\n",
       "      <td>5.879611e-05</td>\n",
       "      <td>443.899011</td>\n",
       "      <td>627.999060</td>\n",
       "      <td>770.001611</td>\n",
       "      <td>904.999988</td>\n",
       "      <td>1032.998474</td>\n",
       "      <td>1165.001636</td>\n",
       "      <td>1316.000110</td>\n",
       "      <td>1505.990771</td>\n",
       "      <td>1804.993469</td>\n",
       "      <td>6269.935600</td>\n",
       "      <td>1.352518e-11</td>\n",
       "      <td>433.998392</td>\n",
       "      <td>565.000110</td>\n",
       "      <td>662.996521</td>\n",
       "      <td>746.001318</td>\n",
       "      <td>828.998413</td>\n",
       "      <td>912.000330</td>\n",
       "      <td>1011.997162</td>\n",
       "      <td>1142.202637</td>\n",
       "      <td>1384.994580</td>\n",
       "      <td>5357.790999</td>\n",
       "      <td>120.000275</td>\n",
       "      <td>419.000000</td>\n",
       "      <td>472.999939</td>\n",
       "      <td>509.999808</td>\n",
       "      <td>541.999976</td>\n",
       "      <td>572.000000</td>\n",
       "      <td>602.999939</td>\n",
       "      <td>636.000122</td>\n",
       "      <td>673.000122</td>\n",
       "      <td>745.000000</td>\n",
       "      <td>3647.195402</td>\n",
       "      <td>0.000030</td>\n",
       "      <td>846.002728</td>\n",
       "      <td>1139.006982</td>\n",
       "      <td>1363.993860</td>\n",
       "      <td>1558.000513</td>\n",
       "      <td>1749.993713</td>\n",
       "      <td>1956.000464</td>\n",
       "      <td>2194.001978</td>\n",
       "      <td>2507.001416</td>\n",
       "      <td>3012.991675</td>\n",
       "      <td>7048.367637</td>\n",
       "    </tr>\n",
       "    <tr>\n",
       "      <th>2</th>\n",
       "      <td>0.000000e+00</td>\n",
       "      <td>353.502274</td>\n",
       "      <td>523.003601</td>\n",
       "      <td>644.001831</td>\n",
       "      <td>760.997131</td>\n",
       "      <td>876.999634</td>\n",
       "      <td>1006.997498</td>\n",
       "      <td>1168.995544</td>\n",
       "      <td>1375.008179</td>\n",
       "      <td>1719.003235</td>\n",
       "      <td>5010.767611</td>\n",
       "      <td>0.000000e+00</td>\n",
       "      <td>379.001587</td>\n",
       "      <td>507.003815</td>\n",
       "      <td>600.000519</td>\n",
       "      <td>684.000488</td>\n",
       "      <td>768.997528</td>\n",
       "      <td>867.001587</td>\n",
       "      <td>992.991760</td>\n",
       "      <td>1165.998413</td>\n",
       "      <td>1443.000366</td>\n",
       "      <td>5240.232771</td>\n",
       "      <td>83.000389</td>\n",
       "      <td>363.000031</td>\n",
       "      <td>429.002502</td>\n",
       "      <td>473.000015</td>\n",
       "      <td>510.000092</td>\n",
       "      <td>549.000244</td>\n",
       "      <td>590.999939</td>\n",
       "      <td>635.999817</td>\n",
       "      <td>692.999817</td>\n",
       "      <td>796.498779</td>\n",
       "      <td>1947.739721</td>\n",
       "      <td>0.000005</td>\n",
       "      <td>807.001373</td>\n",
       "      <td>1124.002441</td>\n",
       "      <td>1365.009583</td>\n",
       "      <td>1570.995117</td>\n",
       "      <td>1768.992798</td>\n",
       "      <td>1978.989258</td>\n",
       "      <td>2228.999146</td>\n",
       "      <td>2561.999756</td>\n",
       "      <td>3088.000488</td>\n",
       "      <td>7013.073271</td>\n",
       "    </tr>\n",
       "    <tr>\n",
       "      <th>3</th>\n",
       "      <td>0.000000e+00</td>\n",
       "      <td>268.000613</td>\n",
       "      <td>376.999609</td>\n",
       "      <td>478.003784</td>\n",
       "      <td>575.001233</td>\n",
       "      <td>683.997742</td>\n",
       "      <td>809.005994</td>\n",
       "      <td>955.002960</td>\n",
       "      <td>1136.997144</td>\n",
       "      <td>1447.997290</td>\n",
       "      <td>5465.430281</td>\n",
       "      <td>6.341585e-06</td>\n",
       "      <td>310.999088</td>\n",
       "      <td>405.998712</td>\n",
       "      <td>485.000607</td>\n",
       "      <td>558.997925</td>\n",
       "      <td>641.001007</td>\n",
       "      <td>731.994189</td>\n",
       "      <td>838.004376</td>\n",
       "      <td>974.797485</td>\n",
       "      <td>1217.996167</td>\n",
       "      <td>5343.168796</td>\n",
       "      <td>0.001450</td>\n",
       "      <td>256.999487</td>\n",
       "      <td>295.999969</td>\n",
       "      <td>329.000092</td>\n",
       "      <td>366.000043</td>\n",
       "      <td>411.000549</td>\n",
       "      <td>457.000061</td>\n",
       "      <td>506.000000</td>\n",
       "      <td>565.999817</td>\n",
       "      <td>663.999817</td>\n",
       "      <td>1424.396092</td>\n",
       "      <td>0.002285</td>\n",
       "      <td>1200.994470</td>\n",
       "      <td>1476.001294</td>\n",
       "      <td>1678.005042</td>\n",
       "      <td>1848.001782</td>\n",
       "      <td>2022.988464</td>\n",
       "      <td>2211.993506</td>\n",
       "      <td>2433.003687</td>\n",
       "      <td>2740.996582</td>\n",
       "      <td>3349.986328</td>\n",
       "      <td>6216.880538</td>\n",
       "    </tr>\n",
       "    <tr>\n",
       "      <th>4</th>\n",
       "      <td>0.000000e+00</td>\n",
       "      <td>318.997910</td>\n",
       "      <td>492.003845</td>\n",
       "      <td>632.999634</td>\n",
       "      <td>757.002197</td>\n",
       "      <td>882.999908</td>\n",
       "      <td>1019.008911</td>\n",
       "      <td>1175.993103</td>\n",
       "      <td>1401.000488</td>\n",
       "      <td>1756.994141</td>\n",
       "      <td>7376.529218</td>\n",
       "      <td>0.000000e+00</td>\n",
       "      <td>284.000534</td>\n",
       "      <td>421.002472</td>\n",
       "      <td>526.003815</td>\n",
       "      <td>618.998779</td>\n",
       "      <td>705.999268</td>\n",
       "      <td>801.005432</td>\n",
       "      <td>912.999451</td>\n",
       "      <td>1069.996094</td>\n",
       "      <td>1348.497314</td>\n",
       "      <td>7460.394534</td>\n",
       "      <td>193.000626</td>\n",
       "      <td>431.505035</td>\n",
       "      <td>462.999939</td>\n",
       "      <td>492.000061</td>\n",
       "      <td>519.000427</td>\n",
       "      <td>547.000061</td>\n",
       "      <td>578.999878</td>\n",
       "      <td>617.999603</td>\n",
       "      <td>662.999939</td>\n",
       "      <td>750.000488</td>\n",
       "      <td>1940.403140</td>\n",
       "      <td>0.000000</td>\n",
       "      <td>529.004425</td>\n",
       "      <td>790.996704</td>\n",
       "      <td>999.001617</td>\n",
       "      <td>1183.995239</td>\n",
       "      <td>1355.992920</td>\n",
       "      <td>1535.998779</td>\n",
       "      <td>1725.498962</td>\n",
       "      <td>1954.991455</td>\n",
       "      <td>2315.991455</td>\n",
       "      <td>7092.767616</td>\n",
       "    </tr>\n",
       "    <tr>\n",
       "      <th>...</th>\n",
       "      <td>...</td>\n",
       "      <td>...</td>\n",
       "      <td>...</td>\n",
       "      <td>...</td>\n",
       "      <td>...</td>\n",
       "      <td>...</td>\n",
       "      <td>...</td>\n",
       "      <td>...</td>\n",
       "      <td>...</td>\n",
       "      <td>...</td>\n",
       "      <td>...</td>\n",
       "      <td>...</td>\n",
       "      <td>...</td>\n",
       "      <td>...</td>\n",
       "      <td>...</td>\n",
       "      <td>...</td>\n",
       "      <td>...</td>\n",
       "      <td>...</td>\n",
       "      <td>...</td>\n",
       "      <td>...</td>\n",
       "      <td>...</td>\n",
       "      <td>...</td>\n",
       "      <td>...</td>\n",
       "      <td>...</td>\n",
       "      <td>...</td>\n",
       "      <td>...</td>\n",
       "      <td>...</td>\n",
       "      <td>...</td>\n",
       "      <td>...</td>\n",
       "      <td>...</td>\n",
       "      <td>...</td>\n",
       "      <td>...</td>\n",
       "      <td>...</td>\n",
       "      <td>...</td>\n",
       "      <td>...</td>\n",
       "      <td>...</td>\n",
       "      <td>...</td>\n",
       "      <td>...</td>\n",
       "      <td>...</td>\n",
       "      <td>...</td>\n",
       "      <td>...</td>\n",
       "      <td>...</td>\n",
       "      <td>...</td>\n",
       "      <td>...</td>\n",
       "    </tr>\n",
       "    <tr>\n",
       "      <th>103225</th>\n",
       "      <td>2.183254e-11</td>\n",
       "      <td>427.999246</td>\n",
       "      <td>604.004626</td>\n",
       "      <td>742.996454</td>\n",
       "      <td>866.005859</td>\n",
       "      <td>990.999512</td>\n",
       "      <td>1124.001465</td>\n",
       "      <td>1268.997705</td>\n",
       "      <td>1454.995068</td>\n",
       "      <td>1761.991003</td>\n",
       "      <td>6043.279376</td>\n",
       "      <td>7.424196e-11</td>\n",
       "      <td>386.007083</td>\n",
       "      <td>515.002246</td>\n",
       "      <td>610.000470</td>\n",
       "      <td>689.002856</td>\n",
       "      <td>769.000488</td>\n",
       "      <td>855.000195</td>\n",
       "      <td>957.999896</td>\n",
       "      <td>1091.996729</td>\n",
       "      <td>1331.002258</td>\n",
       "      <td>5814.663998</td>\n",
       "      <td>225.000305</td>\n",
       "      <td>425.999817</td>\n",
       "      <td>473.000153</td>\n",
       "      <td>504.999869</td>\n",
       "      <td>531.000000</td>\n",
       "      <td>555.000000</td>\n",
       "      <td>580.000000</td>\n",
       "      <td>610.000305</td>\n",
       "      <td>658.999573</td>\n",
       "      <td>746.999878</td>\n",
       "      <td>1633.034250</td>\n",
       "      <td>0.000463</td>\n",
       "      <td>720.897247</td>\n",
       "      <td>983.006470</td>\n",
       "      <td>1183.003955</td>\n",
       "      <td>1355.991968</td>\n",
       "      <td>1526.988647</td>\n",
       "      <td>1713.000562</td>\n",
       "      <td>1926.990320</td>\n",
       "      <td>2200.995850</td>\n",
       "      <td>2649.989893</td>\n",
       "      <td>7697.199141</td>\n",
       "    </tr>\n",
       "    <tr>\n",
       "      <th>103226</th>\n",
       "      <td>1.108565e-06</td>\n",
       "      <td>544.002496</td>\n",
       "      <td>690.999658</td>\n",
       "      <td>812.997748</td>\n",
       "      <td>933.008777</td>\n",
       "      <td>1055.998779</td>\n",
       "      <td>1187.997485</td>\n",
       "      <td>1340.002747</td>\n",
       "      <td>1536.998096</td>\n",
       "      <td>1853.001172</td>\n",
       "      <td>6158.499632</td>\n",
       "      <td>1.276654e-07</td>\n",
       "      <td>519.998663</td>\n",
       "      <td>634.000708</td>\n",
       "      <td>721.000183</td>\n",
       "      <td>804.002759</td>\n",
       "      <td>896.001678</td>\n",
       "      <td>1001.999707</td>\n",
       "      <td>1131.999744</td>\n",
       "      <td>1299.000488</td>\n",
       "      <td>1585.001050</td>\n",
       "      <td>6208.522531</td>\n",
       "      <td>153.001801</td>\n",
       "      <td>444.000000</td>\n",
       "      <td>489.000153</td>\n",
       "      <td>522.999878</td>\n",
       "      <td>554.999939</td>\n",
       "      <td>591.999695</td>\n",
       "      <td>642.999390</td>\n",
       "      <td>707.000488</td>\n",
       "      <td>804.000061</td>\n",
       "      <td>1027.000000</td>\n",
       "      <td>4181.606740</td>\n",
       "      <td>0.002002</td>\n",
       "      <td>978.000153</td>\n",
       "      <td>1236.000195</td>\n",
       "      <td>1436.998584</td>\n",
       "      <td>1613.005957</td>\n",
       "      <td>1790.007446</td>\n",
       "      <td>1984.994580</td>\n",
       "      <td>2210.999438</td>\n",
       "      <td>2491.004199</td>\n",
       "      <td>2952.010083</td>\n",
       "      <td>5657.631409</td>\n",
       "    </tr>\n",
       "    <tr>\n",
       "      <th>103227</th>\n",
       "      <td>0.000000e+00</td>\n",
       "      <td>572.003784</td>\n",
       "      <td>765.000366</td>\n",
       "      <td>924.996460</td>\n",
       "      <td>1097.998169</td>\n",
       "      <td>1329.000732</td>\n",
       "      <td>1609.997925</td>\n",
       "      <td>1974.998596</td>\n",
       "      <td>2479.006348</td>\n",
       "      <td>2936.000854</td>\n",
       "      <td>13442.758452</td>\n",
       "      <td>0.000000e+00</td>\n",
       "      <td>533.001495</td>\n",
       "      <td>693.000549</td>\n",
       "      <td>821.999908</td>\n",
       "      <td>964.001343</td>\n",
       "      <td>1157.002747</td>\n",
       "      <td>1410.990601</td>\n",
       "      <td>1745.000427</td>\n",
       "      <td>2217.996582</td>\n",
       "      <td>2621.999146</td>\n",
       "      <td>14899.767649</td>\n",
       "      <td>183.003250</td>\n",
       "      <td>481.000183</td>\n",
       "      <td>566.000366</td>\n",
       "      <td>653.000092</td>\n",
       "      <td>764.999939</td>\n",
       "      <td>932.500824</td>\n",
       "      <td>1135.000000</td>\n",
       "      <td>1366.999207</td>\n",
       "      <td>1605.000122</td>\n",
       "      <td>1810.999756</td>\n",
       "      <td>3280.354361</td>\n",
       "      <td>0.000002</td>\n",
       "      <td>954.001862</td>\n",
       "      <td>1268.003418</td>\n",
       "      <td>1498.000000</td>\n",
       "      <td>1691.999023</td>\n",
       "      <td>1893.008118</td>\n",
       "      <td>2127.004883</td>\n",
       "      <td>2416.000977</td>\n",
       "      <td>2761.000488</td>\n",
       "      <td>3162.000122</td>\n",
       "      <td>14891.610338</td>\n",
       "    </tr>\n",
       "    <tr>\n",
       "      <th>103228</th>\n",
       "      <td>0.000000e+00</td>\n",
       "      <td>341.999185</td>\n",
       "      <td>508.998688</td>\n",
       "      <td>644.999683</td>\n",
       "      <td>767.999805</td>\n",
       "      <td>889.001648</td>\n",
       "      <td>1019.992651</td>\n",
       "      <td>1173.999329</td>\n",
       "      <td>1378.988965</td>\n",
       "      <td>1688.000818</td>\n",
       "      <td>7106.769518</td>\n",
       "      <td>0.000000e+00</td>\n",
       "      <td>333.000500</td>\n",
       "      <td>457.000580</td>\n",
       "      <td>554.002338</td>\n",
       "      <td>642.003223</td>\n",
       "      <td>726.998322</td>\n",
       "      <td>816.000122</td>\n",
       "      <td>924.001355</td>\n",
       "      <td>1076.002002</td>\n",
       "      <td>1327.001123</td>\n",
       "      <td>7081.591588</td>\n",
       "      <td>83.000069</td>\n",
       "      <td>389.000668</td>\n",
       "      <td>436.000000</td>\n",
       "      <td>471.000000</td>\n",
       "      <td>503.000153</td>\n",
       "      <td>540.000122</td>\n",
       "      <td>581.000000</td>\n",
       "      <td>622.000061</td>\n",
       "      <td>667.999878</td>\n",
       "      <td>757.999860</td>\n",
       "      <td>1445.184570</td>\n",
       "      <td>0.000010</td>\n",
       "      <td>762.999640</td>\n",
       "      <td>1029.999609</td>\n",
       "      <td>1232.001550</td>\n",
       "      <td>1412.003369</td>\n",
       "      <td>1591.506287</td>\n",
       "      <td>1767.002051</td>\n",
       "      <td>1955.995447</td>\n",
       "      <td>2189.004102</td>\n",
       "      <td>2570.995068</td>\n",
       "      <td>6719.040030</td>\n",
       "    </tr>\n",
       "    <tr>\n",
       "      <th>103229</th>\n",
       "      <td>4.849879e-11</td>\n",
       "      <td>400.998581</td>\n",
       "      <td>570.003540</td>\n",
       "      <td>684.001343</td>\n",
       "      <td>800.005432</td>\n",
       "      <td>932.995483</td>\n",
       "      <td>1089.997925</td>\n",
       "      <td>1291.003601</td>\n",
       "      <td>1552.997070</td>\n",
       "      <td>1982.998657</td>\n",
       "      <td>6031.623933</td>\n",
       "      <td>2.648995e-07</td>\n",
       "      <td>394.005188</td>\n",
       "      <td>531.997803</td>\n",
       "      <td>634.001160</td>\n",
       "      <td>734.999329</td>\n",
       "      <td>835.000275</td>\n",
       "      <td>947.996094</td>\n",
       "      <td>1092.000122</td>\n",
       "      <td>1296.995972</td>\n",
       "      <td>1643.997131</td>\n",
       "      <td>6624.539444</td>\n",
       "      <td>0.000000</td>\n",
       "      <td>290.999817</td>\n",
       "      <td>377.000061</td>\n",
       "      <td>456.999969</td>\n",
       "      <td>526.000122</td>\n",
       "      <td>596.000122</td>\n",
       "      <td>655.000122</td>\n",
       "      <td>718.999969</td>\n",
       "      <td>806.999573</td>\n",
       "      <td>958.999969</td>\n",
       "      <td>2024.257285</td>\n",
       "      <td>0.000113</td>\n",
       "      <td>1003.999664</td>\n",
       "      <td>1323.008301</td>\n",
       "      <td>1525.000732</td>\n",
       "      <td>1694.001221</td>\n",
       "      <td>1874.000366</td>\n",
       "      <td>2088.002930</td>\n",
       "      <td>2332.001221</td>\n",
       "      <td>2619.002441</td>\n",
       "      <td>3040.000610</td>\n",
       "      <td>5979.746243</td>\n",
       "    </tr>\n",
       "  </tbody>\n",
       "</table>\n",
       "<p>103230 rows × 44 columns</p>\n",
       "</div>"
      ],
      "text/plain": [
       "           Q_R_4_0_0   Q_R_4_0_1   Q_R_4_0_2   Q_R_4_0_3    Q_R_4_0_4  \\\n",
       "0       0.000000e+00  443.001300  616.001697  746.998401   872.996472   \n",
       "1       5.879611e-05  443.899011  627.999060  770.001611   904.999988   \n",
       "2       0.000000e+00  353.502274  523.003601  644.001831   760.997131   \n",
       "3       0.000000e+00  268.000613  376.999609  478.003784   575.001233   \n",
       "4       0.000000e+00  318.997910  492.003845  632.999634   757.002197   \n",
       "...              ...         ...         ...         ...          ...   \n",
       "103225  2.183254e-11  427.999246  604.004626  742.996454   866.005859   \n",
       "103226  1.108565e-06  544.002496  690.999658  812.997748   933.008777   \n",
       "103227  0.000000e+00  572.003784  765.000366  924.996460  1097.998169   \n",
       "103228  0.000000e+00  341.999185  508.998688  644.999683   767.999805   \n",
       "103229  4.849879e-11  400.998581  570.003540  684.001343   800.005432   \n",
       "\n",
       "          Q_R_4_0_5    Q_R_4_0_6    Q_R_4_0_7    Q_R_4_0_8    Q_R_4_0_9  \\\n",
       "0       1009.000946  1159.002319  1342.002466  1572.003418  1943.686816   \n",
       "1       1032.998474  1165.001636  1316.000110  1505.990771  1804.993469   \n",
       "2        876.999634  1006.997498  1168.995544  1375.008179  1719.003235   \n",
       "3        683.997742   809.005994   955.002960  1136.997144  1447.997290   \n",
       "4        882.999908  1019.008911  1175.993103  1401.000488  1756.994141   \n",
       "...             ...          ...          ...          ...          ...   \n",
       "103225   990.999512  1124.001465  1268.997705  1454.995068  1761.991003   \n",
       "103226  1055.998779  1187.997485  1340.002747  1536.998096  1853.001172   \n",
       "103227  1329.000732  1609.997925  1974.998596  2479.006348  2936.000854   \n",
       "103228   889.001648  1019.992651  1173.999329  1378.988965  1688.000818   \n",
       "103229   932.995483  1089.997925  1291.003601  1552.997070  1982.998657   \n",
       "\n",
       "           Q_R_4_1_0     Q_G_3_0_0   Q_G_3_0_1   Q_G_3_0_2   Q_G_3_0_3  \\\n",
       "0        6512.787270  1.283357e-10  428.996347  574.000940  676.002960   \n",
       "1        6269.935600  1.352518e-11  433.998392  565.000110  662.996521   \n",
       "2        5010.767611  0.000000e+00  379.001587  507.003815  600.000519   \n",
       "3        5465.430281  6.341585e-06  310.999088  405.998712  485.000607   \n",
       "4        7376.529218  0.000000e+00  284.000534  421.002472  526.003815   \n",
       "...              ...           ...         ...         ...         ...   \n",
       "103225   6043.279376  7.424196e-11  386.007083  515.002246  610.000470   \n",
       "103226   6158.499632  1.276654e-07  519.998663  634.000708  721.000183   \n",
       "103227  13442.758452  0.000000e+00  533.001495  693.000549  821.999908   \n",
       "103228   7106.769518  0.000000e+00  333.000500  457.000580  554.002338   \n",
       "103229   6031.623933  2.648995e-07  394.005188  531.997803  634.001160   \n",
       "\n",
       "         Q_G_3_0_4    Q_G_3_0_5    Q_G_3_0_6    Q_G_3_0_7    Q_G_3_0_8  \\\n",
       "0       778.003931   880.999176   997.000220  1130.001782  1311.997949   \n",
       "1       746.001318   828.998413   912.000330  1011.997162  1142.202637   \n",
       "2       684.000488   768.997528   867.001587   992.991760  1165.998413   \n",
       "3       558.997925   641.001007   731.994189   838.004376   974.797485   \n",
       "4       618.998779   705.999268   801.005432   912.999451  1069.996094   \n",
       "...            ...          ...          ...          ...          ...   \n",
       "103225  689.002856   769.000488   855.000195   957.999896  1091.996729   \n",
       "103226  804.002759   896.001678  1001.999707  1131.999744  1299.000488   \n",
       "103227  964.001343  1157.002747  1410.990601  1745.000427  2217.996582   \n",
       "103228  642.003223   726.998322   816.000122   924.001355  1076.002002   \n",
       "103229  734.999329   835.000275   947.996094  1092.000122  1296.995972   \n",
       "\n",
       "          Q_G_3_0_9     Q_G_3_1_0   Q_B_2_0_0   Q_B_2_0_1   Q_B_2_0_2  \\\n",
       "0       1626.996155   8627.098641  155.003632  402.000092  458.999939   \n",
       "1       1384.994580   5357.790999  120.000275  419.000000  472.999939   \n",
       "2       1443.000366   5240.232771   83.000389  363.000031  429.002502   \n",
       "3       1217.996167   5343.168796    0.001450  256.999487  295.999969   \n",
       "4       1348.497314   7460.394534  193.000626  431.505035  462.999939   \n",
       "...             ...           ...         ...         ...         ...   \n",
       "103225  1331.002258   5814.663998  225.000305  425.999817  473.000153   \n",
       "103226  1585.001050   6208.522531  153.001801  444.000000  489.000153   \n",
       "103227  2621.999146  14899.767649  183.003250  481.000183  566.000366   \n",
       "103228  1327.001123   7081.591588   83.000069  389.000668  436.000000   \n",
       "103229  1643.997131   6624.539444    0.000000  290.999817  377.000061   \n",
       "\n",
       "         Q_B_2_0_3   Q_B_2_0_4   Q_B_2_0_5    Q_B_2_0_6    Q_B_2_0_7  \\\n",
       "0       510.000061  567.999939  632.000610   681.000916   726.109186   \n",
       "1       509.999808  541.999976  572.000000   602.999939   636.000122   \n",
       "2       473.000015  510.000092  549.000244   590.999939   635.999817   \n",
       "3       329.000092  366.000043  411.000549   457.000061   506.000000   \n",
       "4       492.000061  519.000427  547.000061   578.999878   617.999603   \n",
       "...            ...         ...         ...          ...          ...   \n",
       "103225  504.999869  531.000000  555.000000   580.000000   610.000305   \n",
       "103226  522.999878  554.999939  591.999695   642.999390   707.000488   \n",
       "103227  653.000092  764.999939  932.500824  1135.000000  1366.999207   \n",
       "103228  471.000000  503.000153  540.000122   581.000000   622.000061   \n",
       "103229  456.999969  526.000122  596.000122   655.000122   718.999969   \n",
       "\n",
       "          Q_B_2_0_8    Q_B_2_0_9    Q_B_2_1_0  Q_NIR_8_0_0  Q_NIR_8_0_1  \\\n",
       "0        791.000269   902.999719  1980.172280     0.000013   892.016479   \n",
       "1        673.000122   745.000000  3647.195402     0.000030   846.002728   \n",
       "2        692.999817   796.498779  1947.739721     0.000005   807.001373   \n",
       "3        565.999817   663.999817  1424.396092     0.002285  1200.994470   \n",
       "4        662.999939   750.000488  1940.403140     0.000000   529.004425   \n",
       "...             ...          ...          ...          ...          ...   \n",
       "103225   658.999573   746.999878  1633.034250     0.000463   720.897247   \n",
       "103226   804.000061  1027.000000  4181.606740     0.002002   978.000153   \n",
       "103227  1605.000122  1810.999756  3280.354361     0.000002   954.001862   \n",
       "103228   667.999878   757.999860  1445.184570     0.000010   762.999640   \n",
       "103229   806.999573   958.999969  2024.257285     0.000113  1003.999664   \n",
       "\n",
       "        Q_NIR_8_0_2  Q_NIR_8_0_3  Q_NIR_8_0_4  Q_NIR_8_0_5  Q_NIR_8_0_6  \\\n",
       "0       1244.014185  1497.998303  1731.204688  1944.003906  2160.996533   \n",
       "1       1139.006982  1363.993860  1558.000513  1749.993713  1956.000464   \n",
       "2       1124.002441  1365.009583  1570.995117  1768.992798  1978.989258   \n",
       "3       1476.001294  1678.005042  1848.001782  2022.988464  2211.993506   \n",
       "4        790.996704   999.001617  1183.995239  1355.992920  1535.998779   \n",
       "...             ...          ...          ...          ...          ...   \n",
       "103225   983.006470  1183.003955  1355.991968  1526.988647  1713.000562   \n",
       "103226  1236.000195  1436.998584  1613.005957  1790.007446  1984.994580   \n",
       "103227  1268.003418  1498.000000  1691.999023  1893.008118  2127.004883   \n",
       "103228  1029.999609  1232.001550  1412.003369  1591.506287  1767.002051   \n",
       "103229  1323.008301  1525.000732  1694.001221  1874.000366  2088.002930   \n",
       "\n",
       "        Q_NIR_8_0_7  Q_NIR_8_0_8  Q_NIR_8_0_9   Q_NIR_8_1_0  \n",
       "0       2410.995264  2719.999756  3180.000342  10951.926645  \n",
       "1       2194.001978  2507.001416  3012.991675   7048.367637  \n",
       "2       2228.999146  2561.999756  3088.000488   7013.073271  \n",
       "3       2433.003687  2740.996582  3349.986328   6216.880538  \n",
       "4       1725.498962  1954.991455  2315.991455   7092.767616  \n",
       "...             ...          ...          ...           ...  \n",
       "103225  1926.990320  2200.995850  2649.989893   7697.199141  \n",
       "103226  2210.999438  2491.004199  2952.010083   5657.631409  \n",
       "103227  2416.000977  2761.000488  3162.000122  14891.610338  \n",
       "103228  1955.995447  2189.004102  2570.995068   6719.040030  \n",
       "103229  2332.001221  2619.002441  3040.000610   5979.746243  \n",
       "\n",
       "[103230 rows x 44 columns]"
      ]
     },
     "execution_count": 5,
     "metadata": {},
     "output_type": "execute_result"
    }
   ],
   "source": [
    "data"
   ]
  },
  {
   "cell_type": "markdown",
   "metadata": {},
   "source": [
    "Reestructuramos los datos en el formato deseado"
   ]
  },
  {
   "cell_type": "code",
   "execution_count": 6,
   "metadata": {},
   "outputs": [],
   "source": [
    "mat=[]\n",
    "for i in range(len(data)):\n",
    "    mat2=[]\n",
    "    d0 = []\n",
    "    for a in np.array([0,11,22,33]):\n",
    "        d0.append(data.iloc[i,a])\n",
    "    mat2.append(d0)\n",
    "    \n",
    "    d1 = []\n",
    "    for b in np.array([0,11,22,33])+1:\n",
    "        d1.append(data.iloc[i,b])\n",
    "    mat2.append(d1)\n",
    "    \n",
    "    d2 = []\n",
    "    for c in np.array([0,11,22,33])+2:\n",
    "        d2.append(data.iloc[i,c])\n",
    "    mat2.append(d2)\n",
    "    \n",
    "    d3 = []\n",
    "    for d in np.array([0,11,22,33])+3:\n",
    "        d3.append(data.iloc[i,d])\n",
    "    mat2.append(d3)\n",
    "    \n",
    "    d4 = []\n",
    "    for e in np.array([0,11,22,33])+4:\n",
    "        d4.append(data.iloc[i,e])\n",
    "    mat2.append(d4)\n",
    "    \n",
    "    d5 = []\n",
    "    for f in np.array([0,11,22,33])+5:\n",
    "        d5.append(data.iloc[i,f])\n",
    "    mat2.append(d5)\n",
    "    \n",
    "    d6 = []\n",
    "    for g in np.array([0,11,22,33])+6:\n",
    "        d6.append(data.iloc[i,g])\n",
    "    mat2.append(d6)\n",
    "    \n",
    "    d7 = []\n",
    "    for h in np.array([0,11,22,33])+7:\n",
    "        d7.append(data.iloc[i,h])\n",
    "    mat2.append(d7)\n",
    "    \n",
    "    d8 = []\n",
    "    for j in np.array([0,11,22,33])+8:\n",
    "        d8.append(data.iloc[i,j])\n",
    "    mat2.append(d8)\n",
    "    \n",
    "    d9 = []\n",
    "    for k in np.array([0,11,22,33])+9:\n",
    "        d9.append(data.iloc[i,k])\n",
    "    mat2.append(d9)\n",
    "    \n",
    "    d10 = []\n",
    "    for l in np.array([0,11,22,33])+10:\n",
    "        d10.append(data.iloc[i,l])\n",
    "    mat2.append(d10)\n",
    "    \n",
    "    mat.append(mat2)"
   ]
  },
  {
   "cell_type": "code",
   "execution_count": 8,
   "metadata": {},
   "outputs": [],
   "source": [
    "mat= np.array(mat)"
   ]
  },
  {
   "cell_type": "code",
   "execution_count": 9,
   "metadata": {},
   "outputs": [
    {
     "data": {
      "text/plain": [
       "(103230, 11, 4)"
      ]
     },
     "execution_count": 9,
     "metadata": {},
     "output_type": "execute_result"
    }
   ],
   "source": [
    "mat.shape"
   ]
  },
  {
   "cell_type": "code",
   "execution_count": 10,
   "metadata": {},
   "outputs": [],
   "source": [
    "mat = mat.reshape(len(data), 1,11,4)"
   ]
  },
  {
   "cell_type": "code",
   "execution_count": 11,
   "metadata": {},
   "outputs": [
    {
     "data": {
      "text/plain": [
       "(103230, 1, 11, 4)"
      ]
     },
     "execution_count": 11,
     "metadata": {},
     "output_type": "execute_result"
    }
   ],
   "source": [
    "mat.shape"
   ]
  },
  {
   "cell_type": "markdown",
   "metadata": {},
   "source": [
    "Estandarizamos los datos dividiendo por el valor máximo de todos los canales de color"
   ]
  },
  {
   "cell_type": "code",
   "execution_count": 14,
   "metadata": {},
   "outputs": [
    {
     "data": {
      "text/plain": [
       "16899.629715801202"
      ]
     },
     "execution_count": 14,
     "metadata": {},
     "output_type": "execute_result"
    }
   ],
   "source": [
    "data.values.max()"
   ]
  },
  {
   "cell_type": "code",
   "execution_count": 15,
   "metadata": {},
   "outputs": [],
   "source": [
    "escalado = mat/data.values.max()"
   ]
  },
  {
   "cell_type": "markdown",
   "metadata": {},
   "source": [
    "Representamos gráficamente el resultado de la reestructuración."
   ]
  },
  {
   "cell_type": "code",
   "execution_count": 16,
   "metadata": {},
   "outputs": [
    {
     "data": {
      "image/png": "[encoded data removed]",
      "text/plain": [
       "<Figure size 432x288 with 1 Axes>"
      ]
     },
     "metadata": {
      "needs_background": "light"
     },
     "output_type": "display_data"
    }
   ],
   "source": [
    "# Example of a picture\n",
    "import matplotlib.pyplot as plt\n",
    "plt.imshow(escalado[1]);"
   ]
  },
  {
   "cell_type": "code",
   "execution_count": 17,
   "metadata": {},
   "outputs": [
    {
     "data": {
      "image/png": "[encoded data removed]",
      "text/plain": [
       "<Figure size 1440x720 with 16 Axes>"
      ]
     },
     "metadata": {
      "needs_background": "light"
     },
     "output_type": "display_data"
    }
   ],
   "source": [
    "plt.figure(figsize=(20,10))\n",
    "for i in range(0, 16):\n",
    "    plt.subplot(6, 4, i+1)\n",
    "    plt.imshow(escalado[i])"
   ]
  },
  {
   "cell_type": "markdown",
   "metadata": {},
   "source": [
    "Debido a que es posible que la red convolucional asuma la matriz identidad, introducimos ruido blanco con una distribución normal a los valores."
   ]
  },
  {
   "cell_type": "code",
   "execution_count": 18,
   "metadata": {},
   "outputs": [],
   "source": [
    "x_train_noisy = escalado + 0.1 * np.random.normal(loc=0.0, scale=1.0, size=escalado.shape) \n",
    "x_train_noisy = np.clip(x_train_noisy, 0., 1.)"
   ]
  },
  {
   "cell_type": "code",
   "execution_count": 19,
   "metadata": {},
   "outputs": [
    {
     "data": {
      "image/png": "[encoded data removed]",
      "text/plain": [
       "<Figure size 1440x720 with 16 Axes>"
      ]
     },
     "metadata": {
      "needs_background": "light"
     },
     "output_type": "display_data"
    }
   ],
   "source": [
    "# plot con ruido\n",
    "plt.figure(figsize=(20,10))\n",
    "for i in range(0, 16):\n",
    "    plt.subplot(6, 4, i+1)\n",
    "    plt.imshow(x_train_noisy[i])"
   ]
  },
  {
   "cell_type": "markdown",
   "metadata": {},
   "source": [
    "Para pode aplicar convoluciones sobre los datos, efectuamos un padding y posteriormente introducimos el ruido blanco."
   ]
  },
  {
   "cell_type": "code",
   "execution_count": 20,
   "metadata": {},
   "outputs": [],
   "source": [
    "def zero_pad(X, pad):\n",
    "    \n",
    "    X_pad = np.pad(X, ((0, 0), (1+pad, pad), (pad, 1+pad), (0, 0)), 'constant', constant_values=(0, 0))\n",
    "    \n",
    "    return X_pad"
   ]
  },
  {
   "cell_type": "code",
   "execution_count": 21,
   "metadata": {},
   "outputs": [
    {
     "data": {
      "text/plain": [
       "(103230, 1, 11, 4)"
      ]
     },
     "execution_count": 21,
     "metadata": {},
     "output_type": "execute_result"
    }
   ],
   "source": [
    "escalado.shape"
   ]
  },
  {
   "cell_type": "code",
   "execution_count": 22,
   "metadata": {},
   "outputs": [],
   "source": [
    "escalado_pad = zero_pad(escalado,4)"
   ]
  },
  {
   "cell_type": "code",
   "execution_count": 23,
   "metadata": {},
   "outputs": [
    {
     "data": {
      "text/plain": [
       "(103230, 10, 20, 4)"
      ]
     },
     "execution_count": 23,
     "metadata": {},
     "output_type": "execute_result"
    }
   ],
   "source": [
    "escalado_pad.shape"
   ]
  },
  {
   "cell_type": "code",
   "execution_count": 24,
   "metadata": {},
   "outputs": [
    {
     "data": {
      "image/png": "[encoded data removed]",
      "text/plain": [
       "<Figure size 432x288 with 1 Axes>"
      ]
     },
     "metadata": {
      "needs_background": "light"
     },
     "output_type": "display_data"
    }
   ],
   "source": [
    "# Example of a picture\n",
    "import matplotlib.pyplot as plt\n",
    "plt.imshow(escalado_pad[1]);"
   ]
  },
  {
   "cell_type": "code",
   "execution_count": 25,
   "metadata": {},
   "outputs": [],
   "source": [
    "x_train_noisy = escalado_pad + 0.1 * np.random.normal(loc=0.0, scale=1.0, size=escalado_pad.shape) \n",
    "x_train_noisy = np.clip(x_train_noisy, 0., 1.)"
   ]
  },
  {
   "cell_type": "code",
   "execution_count": 26,
   "metadata": {},
   "outputs": [
    {
     "data": {
      "image/png": "[encoded data removed]",
      "text/plain": [
       "<Figure size 1440x720 with 16 Axes>"
      ]
     },
     "metadata": {
      "needs_background": "light"
     },
     "output_type": "display_data"
    }
   ],
   "source": [
    "plt.figure(figsize=(20,10))\n",
    "for i in range(0, 16):\n",
    "    plt.subplot(6, 4, i+1)\n",
    "    plt.imshow(x_train_noisy[i])"
   ]
  },
  {
   "cell_type": "code",
   "execution_count": 27,
   "metadata": {},
   "outputs": [
    {
     "data": {
      "text/plain": [
       "(103230, 10, 20, 4)"
      ]
     },
     "execution_count": 27,
     "metadata": {},
     "output_type": "execute_result"
    }
   ],
   "source": [
    "x_train_noisy.shape"
   ]
  },
  {
   "cell_type": "code",
   "execution_count": 28,
   "metadata": {},
   "outputs": [
    {
     "name": "stderr",
     "output_type": "stream",
     "text": [
      "Using TensorFlow backend.\n"
     ]
    }
   ],
   "source": [
    "from keras.layers import Input, Dense, Conv2D, MaxPooling2D, UpSampling2D, Flatten,Reshape\n",
    "from keras.models import Model\n",
    "from keras import backend as K"
   ]
  },
  {
   "cell_type": "markdown",
   "metadata": {},
   "source": [
    "Diseñamos el modelo de autoencode convolucional y lo entrenamos"
   ]
  },
  {
   "cell_type": "code",
   "execution_count": 29,
   "metadata": {},
   "outputs": [],
   "source": [
    "input_img = Input(shape=(10, 20, 4))\n",
    "\n",
    "x = Conv2D(16, (4, 4), activation='relu', padding='same')(input_img)\n",
    "x = MaxPooling2D((2, 2), padding='same')(x)\n",
    "x = Conv2D(1, (4, 4), activation='relu', padding='same')(x)\n",
    "x = Flatten()(x)\n",
    "encoded = Dense(units = 4, activation = 'relu')(x)\n",
    "\n",
    "# at this point the representation is (4)\n",
    "\n",
    "x = Dense (units=50, activation = 'relu')(encoded)\n",
    "x = Reshape((5,10,1))(x)\n",
    "x = Conv2D(1, (4, 4), activation='relu', padding='same')(x)\n",
    "x = UpSampling2D((2, 2))(x)\n",
    "x = Conv2D(16, (4, 4), activation='relu', padding='same')(x)\n",
    "decoded = Conv2D(4, (3, 3), activation='sigmoid', padding='same')(x)\n",
    "\n",
    "autoencoder = Model(input_img, decoded)\n",
    "encoder = Model(input_img, encoded)\n",
    "autoencoder.compile(optimizer='adadelta', loss='binary_crossentropy')"
   ]
  },
  {
   "cell_type": "code",
   "execution_count": 30,
   "metadata": {},
   "outputs": [],
   "source": [
    "encoder = Model(input_img, encoded)"
   ]
  },
  {
   "cell_type": "code",
   "execution_count": 31,
   "metadata": {},
   "outputs": [
    {
     "name": "stdout",
     "output_type": "stream",
     "text": [
      "Train on 103230 samples, validate on 103230 samples\n",
      "Epoch 1/30\n",
      "103230/103230 [==============================] - 33s 323us/step - loss: 0.0226 - val_loss: 0.0134\n",
      "Epoch 2/30\n",
      "103230/103230 [==============================] - 34s 325us/step - loss: 0.0130 - val_loss: 0.0137\n",
      "Epoch 3/30\n",
      "103230/103230 [==============================] - 34s 326us/step - loss: 0.0129 - val_loss: 0.0133\n",
      "Epoch 4/30\n",
      "103230/103230 [==============================] - 33s 324us/step - loss: 0.0129 - val_loss: 0.0135\n",
      "Epoch 5/30\n",
      "103230/103230 [==============================] - 33s 323us/step - loss: 0.0128 - val_loss: 0.0134\n",
      "Epoch 6/30\n",
      "103230/103230 [==============================] - 34s 328us/step - loss: 0.0128 - val_loss: 0.0133\n",
      "Epoch 7/30\n",
      "103230/103230 [==============================] - 34s 328us/step - loss: 0.0128 - val_loss: 0.0135\n",
      "Epoch 8/30\n",
      "103230/103230 [==============================] - 34s 329us/step - loss: 0.0128 - val_loss: 0.0132\n",
      "Epoch 9/30\n",
      "103230/103230 [==============================] - 34s 333us/step - loss: 0.0128 - val_loss: 0.0133\n",
      "Epoch 10/30\n",
      "103230/103230 [==============================] - 35s 343us/step - loss: 0.0128 - val_loss: 0.0130\n",
      "Epoch 11/30\n",
      "103230/103230 [==============================] - 34s 330us/step - loss: 0.0128 - val_loss: 0.0133\n",
      "Epoch 12/30\n",
      "103230/103230 [==============================] - 34s 333us/step - loss: 0.0128 - val_loss: 0.0134\n",
      "Epoch 13/30\n",
      "103230/103230 [==============================] - 35s 339us/step - loss: 0.0128 - val_loss: 0.0132\n",
      "Epoch 14/30\n",
      "103230/103230 [==============================] - 34s 331us/step - loss: 0.0128 - val_loss: 0.0130\n",
      "Epoch 15/30\n",
      "103230/103230 [==============================] - 34s 331us/step - loss: 0.0128 - val_loss: 0.0130\n",
      "Epoch 16/30\n",
      "103230/103230 [==============================] - 34s 328us/step - loss: 0.0128 - val_loss: 0.0131\n",
      "Epoch 17/30\n",
      "103230/103230 [==============================] - 38s 366us/step - loss: 0.0128 - val_loss: 0.0132\n",
      "Epoch 18/30\n",
      "103230/103230 [==============================] - 35s 339us/step - loss: 0.0128 - val_loss: 0.0130\n",
      "Epoch 19/30\n",
      "103230/103230 [==============================] - 35s 343us/step - loss: 0.0128 - val_loss: 0.0130\n",
      "Epoch 20/30\n",
      "103230/103230 [==============================] - 36s 345us/step - loss: 0.0128 - val_loss: 0.0130\n",
      "Epoch 21/30\n",
      "103230/103230 [==============================] - 35s 342us/step - loss: 0.0128 - val_loss: 0.0130\n",
      "Epoch 22/30\n",
      "103230/103230 [==============================] - 33s 315us/step - loss: 0.0128 - val_loss: 0.0130\n",
      "Epoch 23/30\n",
      "103230/103230 [==============================] - 35s 338us/step - loss: 0.0128 - val_loss: 0.0129\n",
      "Epoch 24/30\n",
      "103230/103230 [==============================] - 37s 359us/step - loss: 0.0128 - val_loss: 0.0130\n",
      "Epoch 25/30\n",
      "103230/103230 [==============================] - 38s 365us/step - loss: 0.0128 - val_loss: 0.0130\n",
      "Epoch 26/30\n",
      "103230/103230 [==============================] - 37s 355us/step - loss: 0.0128 - val_loss: 0.0130\n",
      "Epoch 27/30\n",
      "103230/103230 [==============================] - 37s 355us/step - loss: 0.0128 - val_loss: 0.0130\n",
      "Epoch 28/30\n",
      "103230/103230 [==============================] - 37s 354us/step - loss: 0.0128 - val_loss: 0.0129\n",
      "Epoch 29/30\n",
      "103230/103230 [==============================] - 36s 349us/step - loss: 0.0128 - val_loss: 0.0129\n",
      "Epoch 30/30\n",
      "103230/103230 [==============================] - 40s 390us/step - loss: 0.0128 - val_loss: 0.0130\n"
     ]
    },
    {
     "data": {
      "text/plain": [
       "<keras.callbacks.callbacks.History at 0x218a4aa5ec8>"
      ]
     },
     "execution_count": 31,
     "metadata": {},
     "output_type": "execute_result"
    }
   ],
   "source": [
    "from keras.callbacks import TensorBoard\n",
    "\n",
    "autoencoder.fit(x_train_noisy, escalado_pad,\n",
    "                epochs=30,\n",
    "                batch_size=64,\n",
    "                shuffle=True,\n",
    "                validation_data=(escalado_pad, escalado_pad))"
   ]
  },
  {
   "cell_type": "markdown",
   "metadata": {},
   "source": [
    "Una vez entrenado el modelo, realizamos una predicción con la capa intermedia, esta capa devuelve la información principal de todas las variables"
   ]
  },
  {
   "cell_type": "code",
   "execution_count": 35,
   "metadata": {},
   "outputs": [],
   "source": [
    "resultados_encoded = encoder.predict(escalado_pad)"
   ]
  },
  {
   "cell_type": "code",
   "execution_count": 36,
   "metadata": {},
   "outputs": [
    {
     "data": {
      "text/plain": [
       "array([[4.8072653, 3.2741659, 3.4986842, 7.9299407],\n",
       "       [4.293427 , 3.186429 , 3.2455776, 7.8186097],\n",
       "       [4.154226 , 3.1570265, 3.18647  , 7.767251 ],\n",
       "       ...,\n",
       "       [6.166287 , 3.533862 , 4.1213875, 8.235627 ],\n",
       "       [4.4134684, 3.20294  , 3.2967849, 7.7817073],\n",
       "       [4.2706246, 3.1804433, 3.2339962, 7.807508 ]], dtype=float32)"
      ]
     },
     "execution_count": 36,
     "metadata": {},
     "output_type": "execute_result"
    }
   ],
   "source": [
    "resultados_encoded"
   ]
  },
  {
   "cell_type": "markdown",
   "metadata": {},
   "source": [
    "Hacemos una prueba de los resultados al pasar por todo el autoencode. Este autencode también funciona si le introducimos una imagen con ruido."
   ]
  },
  {
   "cell_type": "code",
   "execution_count": 38,
   "metadata": {},
   "outputs": [],
   "source": [
    "resultados = autoencoder.predict(escalado_pad)"
   ]
  },
  {
   "cell_type": "code",
   "execution_count": 40,
   "metadata": {},
   "outputs": [
    {
     "data": {
      "image/png": "[encoded data removed]",
      "text/plain": [
       "<Figure size 432x288 with 1 Axes>"
      ]
     },
     "metadata": {
      "needs_background": "light"
     },
     "output_type": "display_data"
    }
   ],
   "source": [
    "plt.imshow(resultados[5]);"
   ]
  },
  {
   "cell_type": "markdown",
   "metadata": {},
   "source": [
    "Los resultados no son del todo concluyentes, creemos que con una mejor estructura del autoencode podríasmo recopilar mejor la imagen original."
   ]
  },
  {
   "cell_type": "code",
   "execution_count": 41,
   "metadata": {},
   "outputs": [
    {
     "data": {
      "image/png": "[encoded data removed]",
      "text/plain": [
       "<Figure size 1440x720 with 16 Axes>"
      ]
     },
     "metadata": {
      "needs_background": "light"
     },
     "output_type": "display_data"
    }
   ],
   "source": [
    "plt.figure(figsize=(20,10))\n",
    "for i in range(0, 16):\n",
    "    plt.subplot(6, 4, i+1)\n",
    "    plt.imshow(resultados[i])"
   ]
  },
  {
   "cell_type": "markdown",
   "metadata": {},
   "source": [
    "Guardamos los datos en un dataframe y posteriormente en un csv."
   ]
  },
  {
   "cell_type": "code",
   "execution_count": 42,
   "metadata": {},
   "outputs": [],
   "source": [
    "data_encoder = pd.DataFrame(resultados_encoded, columns=[f'AUTOENCODE_{i+1}' for i in range(4)])"
   ]
  },
  {
   "cell_type": "code",
   "execution_count": 43,
   "metadata": {},
   "outputs": [
    {
     "data": {
      "text/html": [
       "<div>\n",
       "<style scoped>\n",
       "    .dataframe tbody tr th:only-of-type {\n",
       "        vertical-align: middle;\n",
       "    }\n",
       "\n",
       "    .dataframe tbody tr th {\n",
       "        vertical-align: top;\n",
       "    }\n",
       "\n",
       "    .dataframe thead th {\n",
       "        text-align: right;\n",
       "    }\n",
       "</style>\n",
       "<table border=\"1\" class=\"dataframe\">\n",
       "  <thead>\n",
       "    <tr style=\"text-align: right;\">\n",
       "      <th></th>\n",
       "      <th>AUTOENCODE_1</th>\n",
       "      <th>AUTOENCODE_2</th>\n",
       "      <th>AUTOENCODE_3</th>\n",
       "      <th>AUTOENCODE_4</th>\n",
       "    </tr>\n",
       "  </thead>\n",
       "  <tbody>\n",
       "    <tr>\n",
       "      <th>0</th>\n",
       "      <td>4.807265</td>\n",
       "      <td>3.274166</td>\n",
       "      <td>3.498684</td>\n",
       "      <td>7.929941</td>\n",
       "    </tr>\n",
       "    <tr>\n",
       "      <th>1</th>\n",
       "      <td>4.293427</td>\n",
       "      <td>3.186429</td>\n",
       "      <td>3.245578</td>\n",
       "      <td>7.818610</td>\n",
       "    </tr>\n",
       "    <tr>\n",
       "      <th>2</th>\n",
       "      <td>4.154226</td>\n",
       "      <td>3.157027</td>\n",
       "      <td>3.186470</td>\n",
       "      <td>7.767251</td>\n",
       "    </tr>\n",
       "    <tr>\n",
       "      <th>3</th>\n",
       "      <td>4.124792</td>\n",
       "      <td>3.149980</td>\n",
       "      <td>3.161553</td>\n",
       "      <td>7.750154</td>\n",
       "    </tr>\n",
       "    <tr>\n",
       "      <th>4</th>\n",
       "      <td>4.495753</td>\n",
       "      <td>3.218622</td>\n",
       "      <td>3.332394</td>\n",
       "      <td>7.774969</td>\n",
       "    </tr>\n",
       "    <tr>\n",
       "      <th>...</th>\n",
       "      <td>...</td>\n",
       "      <td>...</td>\n",
       "      <td>...</td>\n",
       "      <td>...</td>\n",
       "    </tr>\n",
       "    <tr>\n",
       "      <th>103225</th>\n",
       "      <td>4.313069</td>\n",
       "      <td>3.184826</td>\n",
       "      <td>3.260786</td>\n",
       "      <td>7.784502</td>\n",
       "    </tr>\n",
       "    <tr>\n",
       "      <th>103226</th>\n",
       "      <td>4.268830</td>\n",
       "      <td>3.184580</td>\n",
       "      <td>3.226488</td>\n",
       "      <td>7.828515</td>\n",
       "    </tr>\n",
       "    <tr>\n",
       "      <th>103227</th>\n",
       "      <td>6.166287</td>\n",
       "      <td>3.533862</td>\n",
       "      <td>4.121387</td>\n",
       "      <td>8.235627</td>\n",
       "    </tr>\n",
       "    <tr>\n",
       "      <th>103228</th>\n",
       "      <td>4.413468</td>\n",
       "      <td>3.202940</td>\n",
       "      <td>3.296785</td>\n",
       "      <td>7.781707</td>\n",
       "    </tr>\n",
       "    <tr>\n",
       "      <th>103229</th>\n",
       "      <td>4.270625</td>\n",
       "      <td>3.180443</td>\n",
       "      <td>3.233996</td>\n",
       "      <td>7.807508</td>\n",
       "    </tr>\n",
       "  </tbody>\n",
       "</table>\n",
       "<p>103230 rows × 4 columns</p>\n",
       "</div>"
      ],
      "text/plain": [
       "        AUTOENCODE_1  AUTOENCODE_2  AUTOENCODE_3  AUTOENCODE_4\n",
       "0           4.807265      3.274166      3.498684      7.929941\n",
       "1           4.293427      3.186429      3.245578      7.818610\n",
       "2           4.154226      3.157027      3.186470      7.767251\n",
       "3           4.124792      3.149980      3.161553      7.750154\n",
       "4           4.495753      3.218622      3.332394      7.774969\n",
       "...              ...           ...           ...           ...\n",
       "103225      4.313069      3.184826      3.260786      7.784502\n",
       "103226      4.268830      3.184580      3.226488      7.828515\n",
       "103227      6.166287      3.533862      4.121387      8.235627\n",
       "103228      4.413468      3.202940      3.296785      7.781707\n",
       "103229      4.270625      3.180443      3.233996      7.807508\n",
       "\n",
       "[103230 rows x 4 columns]"
      ]
     },
     "execution_count": 43,
     "metadata": {},
     "output_type": "execute_result"
    }
   ],
   "source": [
    "data_encoder"
   ]
  },
  {
   "cell_type": "code",
   "execution_count": null,
   "metadata": {},
   "outputs": [],
   "source": [
    "plt.hist(data_encoder.b, bins='auto');"
   ]
  },
  {
   "cell_type": "code",
   "execution_count": null,
   "metadata": {},
   "outputs": [],
   "source": [
    "plt.hist(data_encoder.c, bins='auto');"
   ]
  },
  {
   "cell_type": "code",
   "execution_count": null,
   "metadata": {},
   "outputs": [],
   "source": [
    "data_encoder.to_csv('../data/encoders.txt', sep='|', index=False)"
   ]
  },
  {
   "cell_type": "code",
   "execution_count": null,
   "metadata": {},
   "outputs": [],
   "source": []
  }
 ],
 "metadata": {
  "kernelspec": {
   "display_name": "Python 3",
   "language": "python",
   "name": "python3"
  },
  "language_info": {
   "codemirror_mode": {
    "name": "ipython",
    "version": 3
   },
   "file_extension": ".py",
   "mimetype": "text/x-python",
   "name": "python",
   "nbconvert_exporter": "python",
   "pygments_lexer": "ipython3",
   "version": "3.7.6"
  }
 },
 "nbformat": 4,
 "nbformat_minor": 4
}
